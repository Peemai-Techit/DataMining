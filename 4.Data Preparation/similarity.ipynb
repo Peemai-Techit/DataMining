{
 "cells": [
  {
   "cell_type": "markdown",
   "id": "770d7178",
   "metadata": {},
   "source": [
    "### 1.Distance"
   ]
  },
  {
   "cell_type": "code",
   "execution_count": 11,
   "id": "279f86db",
   "metadata": {},
   "outputs": [],
   "source": [
    "import pandas as pd\n",
    "import numpy as np\n",
    "from scipy.spatial import distance_matrix"
   ]
  },
  {
   "cell_type": "code",
   "execution_count": 12,
   "id": "2deec3f3",
   "metadata": {},
   "outputs": [],
   "source": [
    "# Mocking Data\n",
    "data = {\n",
    "    \"ID\": [\"P1,\",\"P2,\",\"P3,\",\"P4,\"],\n",
    "    \"x\" : [0,2,3,5],\n",
    "    \"y\" : [2,0,1,1],\n",
    "}"
   ]
  },
  {
   "cell_type": "code",
   "execution_count": 13,
   "id": "d24b2ff9",
   "metadata": {},
   "outputs": [
    {
     "name": "stdout",
     "output_type": "stream",
     "text": [
      "{'ID': ['P1,', 'P2,', 'P3,', 'P4,'], 'x': [0, 2, 3, 5], 'y': [2, 0, 1, 1]}\n"
     ]
    }
   ],
   "source": [
    "print(data)"
   ]
  },
  {
   "cell_type": "code",
   "execution_count": 15,
   "id": "ce11f5c6",
   "metadata": {},
   "outputs": [
    {
     "data": {
      "text/html": [
       "<div>\n",
       "<style scoped>\n",
       "    .dataframe tbody tr th:only-of-type {\n",
       "        vertical-align: middle;\n",
       "    }\n",
       "\n",
       "    .dataframe tbody tr th {\n",
       "        vertical-align: top;\n",
       "    }\n",
       "\n",
       "    .dataframe thead th {\n",
       "        text-align: right;\n",
       "    }\n",
       "</style>\n",
       "<table border=\"1\" class=\"dataframe\">\n",
       "  <thead>\n",
       "    <tr style=\"text-align: right;\">\n",
       "      <th></th>\n",
       "      <th>x</th>\n",
       "      <th>y</th>\n",
       "    </tr>\n",
       "    <tr>\n",
       "      <th>ID</th>\n",
       "      <th></th>\n",
       "      <th></th>\n",
       "    </tr>\n",
       "  </thead>\n",
       "  <tbody>\n",
       "    <tr>\n",
       "      <th>P1,</th>\n",
       "      <td>0</td>\n",
       "      <td>2</td>\n",
       "    </tr>\n",
       "    <tr>\n",
       "      <th>P2,</th>\n",
       "      <td>2</td>\n",
       "      <td>0</td>\n",
       "    </tr>\n",
       "    <tr>\n",
       "      <th>P3,</th>\n",
       "      <td>3</td>\n",
       "      <td>1</td>\n",
       "    </tr>\n",
       "    <tr>\n",
       "      <th>P4,</th>\n",
       "      <td>5</td>\n",
       "      <td>1</td>\n",
       "    </tr>\n",
       "  </tbody>\n",
       "</table>\n",
       "</div>"
      ],
      "text/plain": [
       "     x  y\n",
       "ID       \n",
       "P1,  0  2\n",
       "P2,  2  0\n",
       "P3,  3  1\n",
       "P4,  5  1"
      ]
     },
     "execution_count": 15,
     "metadata": {},
     "output_type": "execute_result"
    }
   ],
   "source": [
    "# แปลง Dictionary to DataFram\n",
    "df = pd.DataFrame(data).set_index(\"ID\")\n",
    "df"
   ]
  },
  {
   "cell_type": "code",
   "execution_count": 23,
   "id": "ea17bff7",
   "metadata": {},
   "outputs": [],
   "source": [
    "# Manhattan\n",
    "manhattan = distance_matrix(df.values, df.values,p = 1)\n",
    "\n",
    "# Euclidian\n",
    "euclidian = distance_matrix(df.values, df.values,p = 2)\n",
    "\n",
    "# minkowsky p = 3\n",
    "minkowsky = distance_matrix(df.values,df.values,p = 3)"
   ]
  },
  {
   "cell_type": "code",
   "execution_count": 24,
   "id": "8e08da46",
   "metadata": {},
   "outputs": [
    {
     "name": "stdout",
     "output_type": "stream",
     "text": [
      "manhattan\n",
      " [[0. 4. 4. 6.]\n",
      " [4. 0. 2. 4.]\n",
      " [4. 2. 0. 2.]\n",
      " [6. 4. 2. 0.]]\n",
      "euclidian\n",
      " [[0.    2.828 3.162 5.099]\n",
      " [2.828 0.    1.414 3.162]\n",
      " [3.162 1.414 0.    2.   ]\n",
      " [5.099 3.162 2.    0.   ]]\n",
      "minkowsky\n",
      " [[0.    2.52  3.037 5.013]\n",
      " [2.52  0.    1.26  3.037]\n",
      " [3.037 1.26  0.    2.   ]\n",
      " [5.013 3.037 2.    0.   ]]\n"
     ]
    }
   ],
   "source": [
    "print(\"manhattan\\n\",manhattan.round(3))\n",
    "print(\"euclidian\\n\",euclidian.round(3))\n",
    "print(\"minkowsky\\n\",minkowsky.round(3))"
   ]
  }
 ],
 "metadata": {
  "kernelspec": {
   "display_name": "environments",
   "language": "python",
   "name": "python3"
  },
  "language_info": {
   "codemirror_mode": {
    "name": "ipython",
    "version": 3
   },
   "file_extension": ".py",
   "mimetype": "text/x-python",
   "name": "python",
   "nbconvert_exporter": "python",
   "pygments_lexer": "ipython3",
   "version": "3.13.5"
  }
 },
 "nbformat": 4,
 "nbformat_minor": 5
}
