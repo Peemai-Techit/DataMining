{
 "cells": [
  {
   "cell_type": "markdown",
   "id": "10deafce",
   "metadata": {},
   "source": [
    "## 1.import numpy as np เรียกใช้งาน numpy "
   ]
  },
  {
   "cell_type": "code",
   "execution_count": 1,
   "id": "1912e184",
   "metadata": {},
   "outputs": [],
   "source": [
    "import numpy as np"
   ]
  },
  {
   "cell_type": "code",
   "execution_count": null,
   "id": "54a68671",
   "metadata": {},
   "outputs": [],
   "source": [
    "# Syntax creating Array\n",
    "# array_name = np.array()\n",
    "\n",
    "# 1 - dimensiona1 array 1,5,2,0 \n",
    "arr_1d = np.array([ 1, 5, 2, 0 ])\n",
    "# 2 - dimensional array  1,5,2,0  8,3,6,1  1,7,2,9\n",
    "arr_2d = np.array([ [1,5,2,0], [8,3,6,1], [1,7,2,9] ])\n",
    "\n",
    "# 3 - dimensional array 10, 15, 20, 25   30, 35, 40, 45   50, 55, 60, 65 \n",
    "arr_3d = np.array([ [10, 15], \n",
    "                [ 20, 25], \n",
    "                \n",
    "                [30, 35], \n",
    "                [40, 45],\n",
    "                \n",
    "                [50, 55], \n",
    "                [60, 65] ])"
   ]
  },
  {
   "cell_type": "code",
   "execution_count": 4,
   "id": "b4c44b0d",
   "metadata": {},
   "outputs": [
    {
     "name": "stdout",
     "output_type": "stream",
     "text": [
      "[1 5 2 0]\n",
      "-------\n",
      "[[1 5 2 0]\n",
      " [8 3 6 1]\n",
      " [1 7 2 9]]\n"
     ]
    }
   ],
   "source": [
    "print(arr_1d)\n",
    "print('-------')\n",
    "print(arr_2d)"
   ]
  },
  {
   "cell_type": "code",
   "execution_count": 9,
   "id": "4e79875e",
   "metadata": {},
   "outputs": [],
   "source": [
    "default_array = np.array([1,2,3,4,5,6])\n",
    "default_array_2d = np.array([ [1,2,3,4], [5,6,7,8], [9,10,11,12] ])"
   ]
  },
  {
   "cell_type": "code",
   "execution_count": 11,
   "id": "293e2d4d",
   "metadata": {},
   "outputs": [
    {
     "data": {
      "text/plain": [
       "array([1, 2, 3])"
      ]
     },
     "execution_count": 11,
     "metadata": {},
     "output_type": "execute_result"
    }
   ],
   "source": [
    "# สามตัวแรก \n",
    "default_array[ :3]\n",
    "\n",
    "# ตีวที่ 4 เป็นต้นไป \n",
    "# default_array[3:]\n",
    "\n",
    "# สามชืกใน row 2 columns 4 \n",
    "# default_array_2d[1,3]"
   ]
  },
  {
   "cell_type": "code",
   "execution_count": 12,
   "id": "71f67a07",
   "metadata": {},
   "outputs": [],
   "source": [
    "array_attribute = np.array([ [  1, 2, 3, 4 ], [  5, 6, 7, 8 ], [ 9, 10, 11, 12 ] ])"
   ]
  },
  {
   "cell_type": "code",
   "execution_count": null,
   "id": "ab6badf3",
   "metadata": {},
   "outputs": [],
   "source": [
    "# ตรวจสอบคุณสมบัติของ Array\n",
    "# array_attribute.ndim\n",
    "# array_attribute.ndim\n",
    "# # array_attribute.shape\n",
    "# array_attribute.shape "
   ]
  },
  {
   "cell_type": "code",
   "execution_count": 14,
   "id": "5f19b4e8",
   "metadata": {},
   "outputs": [],
   "source": [
    "zero_2d_array = np.zeros(2)\n",
    "one_1d_array = np.ones(5)\n",
    "arang_array = np.arange(4)\n",
    "step_arang_array= np.arange(2,9,2)  # start stop step "
   ]
  },
  {
   "cell_type": "code",
   "execution_count": null,
   "id": "d7b983da",
   "metadata": {},
   "outputs": [],
   "source": [
    "# zero_2d_array\n",
    "print()\n",
    "# one_1d_array\n",
    "# arang_array\n",
    "# step_arang_array\n",
    "print(one_1d_array)"
   ]
  },
  {
   "cell_type": "code",
   "execution_count": 15,
   "id": "13cbacaa",
   "metadata": {},
   "outputs": [],
   "source": [
    "array_sample = np.arange(20)"
   ]
  },
  {
   "cell_type": "code",
   "execution_count": 16,
   "id": "5b08c4c9",
   "metadata": {},
   "outputs": [
    {
     "name": "stdout",
     "output_type": "stream",
     "text": [
      "[ 0  1  2  3  4  5  6  7  8  9 10 11 12 13 14 15 16 17 18 19]\n"
     ]
    }
   ],
   "source": [
    "print(array_sample)"
   ]
  },
  {
   "cell_type": "code",
   "execution_count": null,
   "id": "f4224195",
   "metadata": {},
   "outputs": [
    {
     "data": {
      "text/plain": [
       "array([[ 0,  1,  2,  3,  4,  5,  6,  7,  8,  9],\n",
       "       [10, 11, 12, 13, 14, 15, 16, 17, 18, 19]])"
      ]
     },
     "execution_count": 17,
     "metadata": {},
     "output_type": "execute_result"
    }
   ],
   "source": [
    "#   reshape สองแถว\n",
    "array_sample.reshape(2,10)"
   ]
  }
 ],
 "metadata": {
  "kernelspec": {
   "display_name": "env",
   "language": "python",
   "name": "python3"
  },
  "language_info": {
   "codemirror_mode": {
    "name": "ipython",
    "version": 3
   },
   "file_extension": ".py",
   "mimetype": "text/x-python",
   "name": "python",
   "nbconvert_exporter": "python",
   "pygments_lexer": "ipython3",
   "version": "3.13.5"
  }
 },
 "nbformat": 4,
 "nbformat_minor": 5
}
