{
 "cells": [
  {
   "cell_type": "markdown",
   "id": "d419f5e7",
   "metadata": {},
   "source": [
    "# แบบฝึกหัด NumPy – การสร้างและใช้งานอาเรย์"
   ]
  },
  {
   "cell_type": "code",
   "execution_count": 37,
   "id": "57e26d4d",
   "metadata": {},
   "outputs": [
    {
     "name": "stdout",
     "output_type": "stream",
     "text": [
      "1D array: [ 1  3  5  7  9 11 13 15]\n"
     ]
    }
   ],
   "source": [
    "import numpy as np\n",
    "# 1. อาเรย์ 1 มิติ ที่มีเลขคี่จาก 1 ถึง 15 ขนาด 8 ตัว\n",
    "array_1d = np.arange(1, 16, 2)\n",
    "print(\"1D array:\", array_1d)"
   ]
  },
  {
   "cell_type": "code",
   "execution_count": 38,
   "id": "6e98e0a9",
   "metadata": {},
   "outputs": [
    {
     "name": "stdout",
     "output_type": "stream",
     "text": [
      "2D array:\n",
      " [[9 9 9 9 9]\n",
      " [9 9 9 9 9]\n",
      " [9 9 9 9 9]]\n"
     ]
    }
   ],
   "source": [
    "# 2. อาเรย์ 2 มิติ ขนาด 3x5 ที่มีค่าเริ่มต้นเป็น 9\n",
    "array_2d = np.full((3, 5), 9)\n",
    "print(\"2D array:\\n\", array_2d)"
   ]
  },
  {
   "cell_type": "code",
   "execution_count": 39,
   "id": "f1bfdf45",
   "metadata": {},
   "outputs": [
    {
     "name": "stdout",
     "output_type": "stream",
     "text": [
      "3D array shape: (2, 3, 4)\n"
     ]
    }
   ],
   "source": [
    "# 3. อาเรย์ 3 มิติ 2x3x4 ที่มีค่าเป็น 0 ทั้งหมด\n",
    "array_3d = np.zeros((2, 3, 4))\n",
    "print(\"3D array shape:\", array_3d.shape)"
   ]
  },
  {
   "cell_type": "code",
   "execution_count": 40,
   "id": "0df533b4",
   "metadata": {},
   "outputs": [
    {
     "name": "stdout",
     "output_type": "stream",
     "text": [
      "Linspace array: [0.         0.55555556 1.11111111 1.66666667 2.22222222 2.77777778\n",
      " 3.33333333 3.88888889 4.44444444 5.        ]\n"
     ]
    }
   ],
   "source": [
    "# 4. ใช้ np.linspace สร้างอาเรย์ที่มี 10 ค่า จาก 0 ถึง 5\n",
    "lin_array = np.linspace(0, 5, 10)\n",
    "print(\"Linspace array:\", lin_array)"
   ]
  },
  {
   "cell_type": "markdown",
   "id": "d3eae66e",
   "metadata": {},
   "source": [
    "# แบบฝึกหัด: NumPy Indexing & Slicing\n",
    "default_array = np.array([1, 2, 3, 4, 5, 6])\n",
    "default_array_2d = np.array([\n",
    "    [1, 2, 3, 4],\n",
    "    [5, 6, 7, 8],\n",
    "    [9, 10, 11, 12]\n",
    "])"
   ]
  },
  {
   "cell_type": "code",
   "execution_count": 41,
   "id": "9b394fcd",
   "metadata": {},
   "outputs": [],
   "source": [
    "default_array = np.array([1, 2, 3, 4, 5, 6])\n",
    "default_array_2d = np.array([\n",
    "    [1, 2, 3, 4],\n",
    "    [5, 6, 7, 8],\n",
    "    [9, 10, 11, 12]\n",
    "])"
   ]
  },
  {
   "cell_type": "code",
   "execution_count": 42,
   "id": "bdd42b49",
   "metadata": {},
   "outputs": [
    {
     "name": "stdout",
     "output_type": "stream",
     "text": [
      "Last item: 6\n"
     ]
    }
   ],
   "source": [
    "# 1. สมาชิกตัวสุดท้ายของ default_array\n",
    "last_item = default_array[5]\n",
    "print(\"Last item:\", last_item)"
   ]
  },
  {
   "cell_type": "code",
   "execution_count": 43,
   "id": "be819644",
   "metadata": {},
   "outputs": [
    {
     "name": "stdout",
     "output_type": "stream",
     "text": [
      "Slice 2 to 4: [2 3 4]\n"
     ]
    }
   ],
   "source": [
    "# 2. สมาชิกตั้งแต่ index 1–3\n",
    "slice_2_to_4 = default_array[1:4]\n",
    "print(\"Slice 2 to 4:\", slice_2_to_4)"
   ]
  },
  {
   "cell_type": "code",
   "execution_count": 44,
   "id": "e02a0f29",
   "metadata": {},
   "outputs": [
    {
     "name": "stdout",
     "output_type": "stream",
     "text": [
      "Column 2: [ 2  6 10]\n"
     ]
    }
   ],
   "source": [
    "# 3. ค่าทั้งหมดในคอลัมน์ที่ 2 ของ default_array_2d\n",
    "column_2 = default_array_2d[:, 1]\n",
    "print(\"Column 2:\", column_2)"
   ]
  },
  {
   "cell_type": "markdown",
   "id": "ab2d5a7f",
   "metadata": {},
   "source": [
    "# แบบฝึกหัด 3: คำนวณ (x^2 + 2x) เมื่อ x = [1, 2, 3, 4]"
   ]
  },
  {
   "cell_type": "code",
   "execution_count": 45,
   "id": "f39c45cb",
   "metadata": {},
   "outputs": [
    {
     "name": "stdout",
     "output_type": "stream",
     "text": [
      "x^2 + 2x = [ 3  8 15 24]\n"
     ]
    }
   ],
   "source": [
    "# แบบฝึกหัด 3: คำนวณ (x^2 + 2x) เมื่อ x = [1, 2, 3, 4]\n",
    "x = np.array([1, 2, 3, 4])\n",
    "result = x**2 + 2*x\n",
    "print(\"x^2 + 2x =\", result)"
   ]
  }
 ],
 "metadata": {
  "kernelspec": {
   "display_name": "env",
   "language": "python",
   "name": "python3"
  },
  "language_info": {
   "codemirror_mode": {
    "name": "ipython",
    "version": 3
   },
   "file_extension": ".py",
   "mimetype": "text/x-python",
   "name": "python",
   "nbconvert_exporter": "python",
   "pygments_lexer": "ipython3",
   "version": "3.13.5"
  }
 },
 "nbformat": 4,
 "nbformat_minor": 5
}
